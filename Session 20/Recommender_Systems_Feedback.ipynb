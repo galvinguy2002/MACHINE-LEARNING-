{
  "nbformat": 4,
  "nbformat_minor": 0,
  "metadata": {
    "anaconda-cloud": {},
    "kernelspec": {
      "display_name": "Python 3",
      "language": "python",
      "name": "python3"
    },
    "language_info": {
      "codemirror_mode": {
        "name": "ipython",
        "version": 3
      },
      "file_extension": ".py",
      "mimetype": "text/x-python",
      "name": "python",
      "nbconvert_exporter": "python",
      "pygments_lexer": "ipython3",
      "version": "3.7.1"
    },
    "colab": {
      "name": "Recommender_Systems_Feedback.ipynb",
      "provenance": [],
      "collapsed_sections": []
    }
  },
  "cells": [
    {
      "cell_type": "code",
      "metadata": {
        "id": "TxQVDJYuScY4",
        "colab_type": "code",
        "colab": {}
      },
      "source": [
        "import pandas as pd\n",
        "import scipy.sparse as sparse\n",
        "import numpy as np\n",
        "from scipy.sparse.linalg import spsolve\n",
        "import random\n",
        "#import implicit\n",
        "from sklearn import metrics\n",
        "from sklearn.preprocessing import MinMaxScaler\n",
        "import pickle\n",
        "\n",
        "#from lightfm import LightFM\n",
        "#from lightfm.evaluation import precision_at_k\n",
        "#from lightfm.evaluation import auc_score\n",
        "\n",
        "%matplotlib inline\n",
        "\n",
        "import matplotlib\n",
        "import matplotlib.pyplot as plt"
      ],
      "execution_count": 0,
      "outputs": []
    },
    {
      "cell_type": "code",
      "metadata": {
        "id": "V3mXagaWScZC",
        "colab_type": "code",
        "outputId": "09e14512-9c2b-449e-8e0e-2b50719e3bd4",
        "colab": {
          "base_uri": "https://localhost:8080/",
          "height": 196
        }
      },
      "source": [
        "dataFile = pd.read_csv('Nov_Dec_15_Report.csv')\n",
        "dataFile = dataFile.rename(columns={'Visit Number': 'Visit_Number', 'Product Description': 'Product_Description'})\n",
        "dataFile.head(2)"
      ],
      "execution_count": 0,
      "outputs": [
        {
          "output_type": "execute_result",
          "data": {
            "text/html": [
              "<div>\n",
              "<style scoped>\n",
              "    .dataframe tbody tr th:only-of-type {\n",
              "        vertical-align: middle;\n",
              "    }\n",
              "\n",
              "    .dataframe tbody tr th {\n",
              "        vertical-align: top;\n",
              "    }\n",
              "\n",
              "    .dataframe thead th {\n",
              "        text-align: right;\n",
              "    }\n",
              "</style>\n",
              "<table border=\"1\" class=\"dataframe\">\n",
              "  <thead>\n",
              "    <tr style=\"text-align: right;\">\n",
              "      <th></th>\n",
              "      <th>Date</th>\n",
              "      <th>Visitor_ID</th>\n",
              "      <th>VisitorID</th>\n",
              "      <th>Visit_Number</th>\n",
              "      <th>Product_Description</th>\n",
              "      <th>ProductID</th>\n",
              "      <th>Category</th>\n",
              "      <th>Sub Class</th>\n",
              "      <th>Sub Collection</th>\n",
              "      <th>Collection</th>\n",
              "      <th>Orders</th>\n",
              "    </tr>\n",
              "  </thead>\n",
              "  <tbody>\n",
              "    <tr>\n",
              "      <th>0</th>\n",
              "      <td>1-Nov-15</td>\n",
              "      <td>2716813584299263768_6917530310765796471</td>\n",
              "      <td>1</td>\n",
              "      <td>4</td>\n",
              "      <td>60461 4x7 Spiral Diary Book Refill</td>\n",
              "      <td>101</td>\n",
              "      <td>D23 Womens Specialty Accessories</td>\n",
              "      <td>Paper and Paper Accessories</td>\n",
              "      <td>NaN</td>\n",
              "      <td>NaN</td>\n",
              "      <td>1</td>\n",
              "    </tr>\n",
              "    <tr>\n",
              "      <th>1</th>\n",
              "      <td>1-Nov-15</td>\n",
              "      <td>2746617186999938461_4611687133509507449</td>\n",
              "      <td>2</td>\n",
              "      <td>69</td>\n",
              "      <td>36552 Smooth Calf Leather Crosby Crossbody</td>\n",
              "      <td>102</td>\n",
              "      <td>D01 Womens Bags</td>\n",
              "      <td>Crossbody</td>\n",
              "      <td>Smooth Calf Leather</td>\n",
              "      <td>Leather</td>\n",
              "      <td>1</td>\n",
              "    </tr>\n",
              "  </tbody>\n",
              "</table>\n",
              "</div>"
            ],
            "text/plain": [
              "       Date                               Visitor_ID  ...  Collection  Orders\n",
              "0  1-Nov-15  2716813584299263768_6917530310765796471  ...         NaN       1\n",
              "1  1-Nov-15  2746617186999938461_4611687133509507449  ...     Leather       1\n",
              "\n",
              "[2 rows x 11 columns]"
            ]
          },
          "metadata": {
            "tags": []
          },
          "execution_count": 3
        }
      ]
    },
    {
      "cell_type": "code",
      "metadata": {
        "id": "UTeudNo4ScZH",
        "colab_type": "code",
        "outputId": "db570847-ed38-46bc-ad96-8a6c6b99eef7",
        "colab": {
          "base_uri": "https://localhost:8080/",
          "height": 323
        }
      },
      "source": [
        "cleaned_retail = dataFile.loc[pd.isnull(dataFile.VisitorID) == False]\n",
        "dataFile.info()"
      ],
      "execution_count": 0,
      "outputs": [
        {
          "output_type": "stream",
          "text": [
            "<class 'pandas.core.frame.DataFrame'>\n",
            "RangeIndex: 177566 entries, 0 to 177565\n",
            "Data columns (total 11 columns):\n",
            " #   Column               Non-Null Count   Dtype \n",
            "---  ------               --------------   ----- \n",
            " 0   Date                 177566 non-null  object\n",
            " 1   Visitor_ID           177566 non-null  object\n",
            " 2   VisitorID            177566 non-null  int64 \n",
            " 3   Visit_Number         177566 non-null  int64 \n",
            " 4   Product_Description  177566 non-null  object\n",
            " 5   ProductID            177566 non-null  int64 \n",
            " 6   Category             177566 non-null  object\n",
            " 7   Sub Class            133492 non-null  object\n",
            " 8   Sub Collection       136590 non-null  object\n",
            " 9   Collection           142808 non-null  object\n",
            " 10  Orders               177566 non-null  int64 \n",
            "dtypes: int64(4), object(7)\n",
            "memory usage: 14.9+ MB\n"
          ],
          "name": "stdout"
        }
      ]
    },
    {
      "cell_type": "code",
      "metadata": {
        "id": "Io6EJUFFBZlO",
        "colab_type": "code",
        "outputId": "800d552b-c232-444f-b749-adc76c180546",
        "colab": {
          "base_uri": "https://localhost:8080/",
          "height": 142
        }
      },
      "source": [
        "temp = pd.DataFrame({'x':[1,2,2,3], 'y':[2,3,4,5],'z':[10,20,30,40]})\n",
        "temp.drop_duplicates(['x'])"
      ],
      "execution_count": 0,
      "outputs": [
        {
          "output_type": "execute_result",
          "data": {
            "text/html": [
              "<div>\n",
              "<style scoped>\n",
              "    .dataframe tbody tr th:only-of-type {\n",
              "        vertical-align: middle;\n",
              "    }\n",
              "\n",
              "    .dataframe tbody tr th {\n",
              "        vertical-align: top;\n",
              "    }\n",
              "\n",
              "    .dataframe thead th {\n",
              "        text-align: right;\n",
              "    }\n",
              "</style>\n",
              "<table border=\"1\" class=\"dataframe\">\n",
              "  <thead>\n",
              "    <tr style=\"text-align: right;\">\n",
              "      <th></th>\n",
              "      <th>x</th>\n",
              "      <th>y</th>\n",
              "      <th>z</th>\n",
              "    </tr>\n",
              "  </thead>\n",
              "  <tbody>\n",
              "    <tr>\n",
              "      <th>0</th>\n",
              "      <td>1</td>\n",
              "      <td>2</td>\n",
              "      <td>10</td>\n",
              "    </tr>\n",
              "    <tr>\n",
              "      <th>1</th>\n",
              "      <td>2</td>\n",
              "      <td>3</td>\n",
              "      <td>20</td>\n",
              "    </tr>\n",
              "    <tr>\n",
              "      <th>3</th>\n",
              "      <td>3</td>\n",
              "      <td>5</td>\n",
              "      <td>40</td>\n",
              "    </tr>\n",
              "  </tbody>\n",
              "</table>\n",
              "</div>"
            ],
            "text/plain": [
              "   x  y   z\n",
              "0  1  2  10\n",
              "1  2  3  20\n",
              "3  3  5  40"
            ]
          },
          "metadata": {
            "tags": []
          },
          "execution_count": 13
        }
      ]
    },
    {
      "cell_type": "code",
      "metadata": {
        "id": "RWz7odYEScZM",
        "colab_type": "code",
        "colab": {}
      },
      "source": [
        "item_lookup = cleaned_retail[['ProductID', 'Product_Description']].drop_duplicates() # Only get unique item/description pairs\n",
        "item_lookup['ProductID'] = item_lookup.ProductID.astype(str) # Encode as strings for future lookup ease"
      ],
      "execution_count": 0,
      "outputs": []
    },
    {
      "cell_type": "code",
      "metadata": {
        "id": "49T154cmScZT",
        "colab_type": "code",
        "outputId": "40ba3c38-fd1e-4145-f7e9-67795ea38d30",
        "colab": {
          "base_uri": "https://localhost:8080/",
          "height": 170
        }
      },
      "source": [
        "item_lookup.info()"
      ],
      "execution_count": 0,
      "outputs": [
        {
          "output_type": "stream",
          "text": [
            "<class 'pandas.core.frame.DataFrame'>\n",
            "Int64Index: 1110 entries, 0 to 172753\n",
            "Data columns (total 2 columns):\n",
            " #   Column               Non-Null Count  Dtype \n",
            "---  ------               --------------  ----- \n",
            " 0   ProductID            1110 non-null   object\n",
            " 1   Product_Description  1110 non-null   object\n",
            "dtypes: object(2)\n",
            "memory usage: 26.0+ KB\n"
          ],
          "name": "stdout"
        }
      ]
    },
    {
      "cell_type": "code",
      "metadata": {
        "id": "UQJpXUf2ScZW",
        "colab_type": "code",
        "colab": {}
      },
      "source": [
        "#---- convert into integer--------------\n",
        "\n",
        "item_lookup.ProductID = item_lookup.ProductID.map(lambda x: int(x))"
      ],
      "execution_count": 0,
      "outputs": []
    },
    {
      "cell_type": "code",
      "metadata": {
        "id": "_5_DuS_cScZa",
        "colab_type": "code",
        "outputId": "880ebb64-c13e-46f4-dc6c-ded9a2b77857",
        "colab": {
          "base_uri": "https://localhost:8080/",
          "height": 111
        }
      },
      "source": [
        "item_lookup.sample(2)"
      ],
      "execution_count": 0,
      "outputs": [
        {
          "output_type": "execute_result",
          "data": {
            "text/html": [
              "<div>\n",
              "<style scoped>\n",
              "    .dataframe tbody tr th:only-of-type {\n",
              "        vertical-align: middle;\n",
              "    }\n",
              "\n",
              "    .dataframe tbody tr th {\n",
              "        vertical-align: top;\n",
              "    }\n",
              "\n",
              "    .dataframe thead th {\n",
              "        text-align: right;\n",
              "    }\n",
              "</style>\n",
              "<table border=\"1\" class=\"dataframe\">\n",
              "  <thead>\n",
              "    <tr style=\"text-align: right;\">\n",
              "      <th></th>\n",
              "      <th>ProductID</th>\n",
              "      <th>Product_Description</th>\n",
              "    </tr>\n",
              "  </thead>\n",
              "  <tbody>\n",
              "    <tr>\n",
              "      <th>11356</th>\n",
              "      <td>915</td>\n",
              "      <td>53689 Hologram Leather Dbl Zip Phone Wallet</td>\n",
              "    </tr>\n",
              "    <tr>\n",
              "      <th>808</th>\n",
              "      <td>431</td>\n",
              "      <td>93532 Varsity Stripe Passport Case</td>\n",
              "    </tr>\n",
              "  </tbody>\n",
              "</table>\n",
              "</div>"
            ],
            "text/plain": [
              "       ProductID                          Product_Description\n",
              "11356        915  53689 Hologram Leather Dbl Zip Phone Wallet\n",
              "808          431           93532 Varsity Stripe Passport Case"
            ]
          },
          "metadata": {
            "tags": []
          },
          "execution_count": 18
        }
      ]
    },
    {
      "cell_type": "code",
      "metadata": {
        "id": "XtYts1W0ScZj",
        "colab_type": "code",
        "colab": {}
      },
      "source": [
        "cleaned_retail['VisitorID'] = cleaned_retail.VisitorID.astype(int) # Convert to int for customer ID\n",
        "cleaned_retail = cleaned_retail[['ProductID', 'Visit_Number', 'VisitorID']] # Get rid of unnecessary info\n",
        "grouped_cleaned = cleaned_retail.groupby(['VisitorID', 'Visit_Number']).sum().reset_index() # Group together\n",
        "grouped_cleaned.Visit_Number.loc[grouped_cleaned.Visit_Number == 0] = 1 # Replace a sum of zero purchases with a one to\n",
        "# indicate purchased\n",
        "grouped_purchased = grouped_cleaned.query('Visit_Number > 0') # Only get customers where purchase totals were positive"
      ],
      "execution_count": 0,
      "outputs": []
    },
    {
      "cell_type": "code",
      "metadata": {
        "id": "D1_8GeKlScZn",
        "colab_type": "code",
        "outputId": "c0447925-5e62-4937-a8ed-50ef4666544a",
        "colab": {
          "base_uri": "https://localhost:8080/",
          "height": 359
        }
      },
      "source": [
        "grouped_purchased.head(10)"
      ],
      "execution_count": 0,
      "outputs": [
        {
          "output_type": "execute_result",
          "data": {
            "text/html": [
              "<div>\n",
              "<style scoped>\n",
              "    .dataframe tbody tr th:only-of-type {\n",
              "        vertical-align: middle;\n",
              "    }\n",
              "\n",
              "    .dataframe tbody tr th {\n",
              "        vertical-align: top;\n",
              "    }\n",
              "\n",
              "    .dataframe thead th {\n",
              "        text-align: right;\n",
              "    }\n",
              "</style>\n",
              "<table border=\"1\" class=\"dataframe\">\n",
              "  <thead>\n",
              "    <tr style=\"text-align: right;\">\n",
              "      <th></th>\n",
              "      <th>VisitorID</th>\n",
              "      <th>Visit_Number</th>\n",
              "      <th>ProductID</th>\n",
              "    </tr>\n",
              "  </thead>\n",
              "  <tbody>\n",
              "    <tr>\n",
              "      <th>0</th>\n",
              "      <td>1</td>\n",
              "      <td>4</td>\n",
              "      <td>101</td>\n",
              "    </tr>\n",
              "    <tr>\n",
              "      <th>1</th>\n",
              "      <td>2</td>\n",
              "      <td>69</td>\n",
              "      <td>102</td>\n",
              "    </tr>\n",
              "    <tr>\n",
              "      <th>2</th>\n",
              "      <td>3</td>\n",
              "      <td>59</td>\n",
              "      <td>103</td>\n",
              "    </tr>\n",
              "    <tr>\n",
              "      <th>3</th>\n",
              "      <td>4</td>\n",
              "      <td>86</td>\n",
              "      <td>530</td>\n",
              "    </tr>\n",
              "    <tr>\n",
              "      <th>4</th>\n",
              "      <td>5</td>\n",
              "      <td>1</td>\n",
              "      <td>109</td>\n",
              "    </tr>\n",
              "    <tr>\n",
              "      <th>5</th>\n",
              "      <td>6</td>\n",
              "      <td>5</td>\n",
              "      <td>110</td>\n",
              "    </tr>\n",
              "    <tr>\n",
              "      <th>6</th>\n",
              "      <td>7</td>\n",
              "      <td>246</td>\n",
              "      <td>111</td>\n",
              "    </tr>\n",
              "    <tr>\n",
              "      <th>7</th>\n",
              "      <td>8</td>\n",
              "      <td>34</td>\n",
              "      <td>112</td>\n",
              "    </tr>\n",
              "    <tr>\n",
              "      <th>8</th>\n",
              "      <td>9</td>\n",
              "      <td>1</td>\n",
              "      <td>113</td>\n",
              "    </tr>\n",
              "    <tr>\n",
              "      <th>9</th>\n",
              "      <td>10</td>\n",
              "      <td>3</td>\n",
              "      <td>114</td>\n",
              "    </tr>\n",
              "  </tbody>\n",
              "</table>\n",
              "</div>"
            ],
            "text/plain": [
              "   VisitorID  Visit_Number  ProductID\n",
              "0          1             4        101\n",
              "1          2            69        102\n",
              "2          3            59        103\n",
              "3          4            86        530\n",
              "4          5             1        109\n",
              "5          6             5        110\n",
              "6          7           246        111\n",
              "7          8            34        112\n",
              "8          9             1        113\n",
              "9         10             3        114"
            ]
          },
          "metadata": {
            "tags": []
          },
          "execution_count": 40
        }
      ]
    },
    {
      "cell_type": "code",
      "metadata": {
        "id": "p93vPtN-ScZr",
        "colab_type": "code",
        "outputId": "549c6d4c-11d9-47b3-efe6-9a5373124d6c",
        "colab": {
          "base_uri": "https://localhost:8080/",
          "height": 232
        }
      },
      "source": [
        "customers = list(np.sort(grouped_purchased.VisitorID.unique())) # Get our unique customers\n",
        "products = list(grouped_purchased.ProductID.unique()) # Get our unique products that were purchased\n",
        "quantity = list(grouped_purchased.Visit_Number) # All of our purchases\n",
        "\n",
        "rows = grouped_purchased.VisitorID.astype('category', categories = customers).cat.codes \n",
        "\n",
        "# Get the associated row indices\n",
        "cols = grouped_purchased.ProductID.astype('category', categories = products).cat.codes \n",
        "# Get the associated column indices\n",
        "purchases_sparse = sparse.csr_matrix((quantity, (rows, cols)), shape=(len(customers), len(products)))"
      ],
      "execution_count": 0,
      "outputs": [
        {
          "output_type": "error",
          "ename": "TypeError",
          "evalue": "ignored",
          "traceback": [
            "\u001b[0;31m---------------------------------------------------------------------------\u001b[0m",
            "\u001b[0;31mTypeError\u001b[0m                                 Traceback (most recent call last)",
            "\u001b[0;32m<ipython-input-36-3d24d25e4b74>\u001b[0m in \u001b[0;36m<module>\u001b[0;34m()\u001b[0m\n\u001b[1;32m      3\u001b[0m \u001b[0mquantity\u001b[0m \u001b[0;34m=\u001b[0m \u001b[0mlist\u001b[0m\u001b[0;34m(\u001b[0m\u001b[0mgrouped_purchased\u001b[0m\u001b[0;34m.\u001b[0m\u001b[0mVisit_Number\u001b[0m\u001b[0;34m)\u001b[0m \u001b[0;31m# All of our purchases\u001b[0m\u001b[0;34m\u001b[0m\u001b[0;34m\u001b[0m\u001b[0m\n\u001b[1;32m      4\u001b[0m \u001b[0;34m\u001b[0m\u001b[0m\n\u001b[0;32m----> 5\u001b[0;31m \u001b[0mrows\u001b[0m \u001b[0;34m=\u001b[0m \u001b[0mgrouped_purchased\u001b[0m\u001b[0;34m.\u001b[0m\u001b[0mVisitorID\u001b[0m\u001b[0;34m.\u001b[0m\u001b[0mastype\u001b[0m\u001b[0;34m(\u001b[0m\u001b[0;34m'category'\u001b[0m\u001b[0;34m,\u001b[0m \u001b[0mcategories\u001b[0m \u001b[0;34m=\u001b[0m \u001b[0mcustomers\u001b[0m\u001b[0;34m)\u001b[0m\u001b[0;34m.\u001b[0m\u001b[0mcat\u001b[0m\u001b[0;34m.\u001b[0m\u001b[0mcodes\u001b[0m\u001b[0;34m\u001b[0m\u001b[0;34m\u001b[0m\u001b[0m\n\u001b[0m\u001b[1;32m      6\u001b[0m \u001b[0;34m\u001b[0m\u001b[0m\n\u001b[1;32m      7\u001b[0m \u001b[0;31m# Get the associated row indices\u001b[0m\u001b[0;34m\u001b[0m\u001b[0;34m\u001b[0m\u001b[0;34m\u001b[0m\u001b[0m\n",
            "\u001b[0;31mTypeError\u001b[0m: astype() got an unexpected keyword argument 'categories'"
          ]
        }
      ]
    },
    {
      "cell_type": "code",
      "metadata": {
        "id": "bAUKtyT_ElaI",
        "colab_type": "code",
        "outputId": "200c0b61-85c8-4543-9a60-b9a18bbb97cb",
        "colab": {
          "base_uri": "https://localhost:8080/",
          "height": 34
        }
      },
      "source": [
        "len(products)"
      ],
      "execution_count": 0,
      "outputs": [
        {
          "output_type": "execute_result",
          "data": {
            "text/plain": [
              "2915"
            ]
          },
          "metadata": {
            "tags": []
          },
          "execution_count": 41
        }
      ]
    },
    {
      "cell_type": "code",
      "metadata": {
        "id": "25Z85zYyIBhU",
        "colab_type": "code",
        "colab": {}
      },
      "source": [
        "  prod1 prod2 prod3 \n",
        "1. 4    null  null\n",
        "2   null  5     null\n",
        "3   null  null  3\n"
      ],
      "execution_count": 0,
      "outputs": []
    },
    {
      "cell_type": "code",
      "metadata": {
        "id": "Nn2MZg3gScZw",
        "colab_type": "code",
        "outputId": "2049a990-e651-4dbb-c3a8-f3c56dc6da53",
        "colab": {}
      },
      "source": [
        "matrix_size = purchases_sparse.shape[0]*purchases_sparse.shape[1] # Number of possible interactions in the matrix\n",
        "num_purchases = len(purchases_sparse.nonzero()[0]) # Number of items interacted with\n",
        "sparsity = 100*(1 - (num_purchases/matrix_size))\n",
        "sparsity"
      ],
      "execution_count": 0,
      "outputs": [
        {
          "output_type": "execute_result",
          "data": {
            "text/plain": [
              "99.96404547109059"
            ]
          },
          "metadata": {
            "tags": []
          },
          "execution_count": 37
        }
      ]
    },
    {
      "cell_type": "code",
      "metadata": {
        "id": "6LJDSS8SScZ1",
        "colab_type": "code",
        "colab": {}
      },
      "source": [
        "def make_train(ratings, pct_test = 0.2):\n",
        "    \n",
        "    test_set = ratings.copy() # Make a copy of the original set to be the test set. \n",
        "    test_set[test_set != 0] = 1 # Store the test set as a binary preference matrix\n",
        "    training_set = ratings.copy() # Make a copy of the original data we can alter as our training set. \n",
        "    nonzero_inds = training_set.nonzero() # Find the indices in the ratings data where an interaction exists\n",
        "    nonzero_pairs = list(zip(nonzero_inds[0], nonzero_inds[1])) # Zip these pairs together of user,item index into list\n",
        "    random.seed(0) # Set the random seed to zero for reproducibility\n",
        "    num_samples = int(np.ceil(pct_test*len(nonzero_pairs))) # Round the number of samples needed to the nearest integer\n",
        "    samples = random.sample(nonzero_pairs, num_samples) # Sample a random number of user-item pairs without replacement\n",
        "    user_inds = [index[0] for index in samples] # Get the user row indices\n",
        "    item_inds = [index[1] for index in samples] # Get the item column indices\n",
        "    training_set[user_inds, item_inds] = 0 # Assign all of the randomly chosen user-item pairs to zero\n",
        "    training_set.eliminate_zeros() # Get rid of zeros in sparse array storage after update to save space\n",
        "    return training_set, test_set, list(set(user_inds)) # Output the unique list of user rows that were altered"
      ],
      "execution_count": 0,
      "outputs": []
    },
    {
      "cell_type": "code",
      "metadata": {
        "id": "rDUifIdYScZ5",
        "colab_type": "code",
        "colab": {}
      },
      "source": [
        "product_train, product_test, product_users_altered = make_train(purchases_sparse, pct_test = 0.2)"
      ],
      "execution_count": 0,
      "outputs": []
    },
    {
      "cell_type": "code",
      "metadata": {
        "id": "Hz_CLe-xScZ8",
        "colab_type": "code",
        "outputId": "79c1f270-b966-463f-f112-bbb9a334063d",
        "colab": {}
      },
      "source": [
        "alpha = 15\n",
        "user_vecs, item_vecs = implicit.alternating_least_squares((product_train*alpha).astype('double'), \n",
        "                                                          factors=20, \n",
        "                                                          regularization = 0.1, \n",
        "                                                        iterations = 50)"
      ],
      "execution_count": 0,
      "outputs": [
        {
          "output_type": "stream",
          "text": [
            "WARNING:implicit:This method is deprecated. Please use the AlternatingLeastSquares class instead\n",
            "100%|████████████████████████████████████████████████████████████████████████████████| 50.0/50 [00:08<00:00,  5.60it/s]\n"
          ],
          "name": "stderr"
        }
      ]
    },
    {
      "cell_type": "code",
      "metadata": {
        "id": "fM75qcssScaD",
        "colab_type": "code",
        "colab": {}
      },
      "source": [
        "def auc_score(predictions, test):\n",
        "    \n",
        "    fpr, tpr, thresholds = metrics.roc_curve(test, predictions)\n",
        "    return metrics.auc(fpr, tpr)"
      ],
      "execution_count": 0,
      "outputs": []
    },
    {
      "cell_type": "code",
      "metadata": {
        "id": "WXlbM4ZyScaH",
        "colab_type": "code",
        "colab": {}
      },
      "source": [
        "def calc_mean_auc(training_set, altered_users, predictions, test_set):\n",
        "    \n",
        "    \n",
        "    store_auc = [] # An empty list to store the AUC for each user that had an item removed from the training set\n",
        "    popularity_auc = [] # To store popular AUC scores\n",
        "    pop_items = np.array(test_set.sum(axis = 0)).reshape(-1) # Get sum of item iteractions to find most popular\n",
        "    item_vecs = predictions[1]\n",
        "    for user in altered_users: # Iterate through each user that had an item altered\n",
        "        training_row = training_set[user,:].toarray().reshape(-1) # Get the training set row\n",
        "        zero_inds = np.where(training_row == 0) # Find where the interaction had not yet occurred\n",
        "        # Get the predicted values based on our user/item vectors\n",
        "        user_vec = predictions[0][user,:]\n",
        "        pred = user_vec.dot(item_vecs).toarray()[0,zero_inds].reshape(-1)\n",
        "        # Get only the items that were originally zero\n",
        "        # Select all ratings from the MF prediction for this user that originally had no iteraction\n",
        "        actual = test_set[user,:].toarray()[0,zero_inds].reshape(-1) \n",
        "        # Select the binarized yes/no interaction pairs from the original full data\n",
        "        # that align with the same pairs in training \n",
        "        pop = pop_items[zero_inds] # Get the item popularity for our chosen items\n",
        "        store_auc.append(auc_score(pred, actual)) # Calculate AUC for the given user and store\n",
        "        popularity_auc.append(auc_score(pop, actual)) # Calculate AUC using most popular and score\n",
        "    # End users iteration\n",
        "    \n",
        "    return float('%.3f'%np.mean(store_auc)), float('%.3f'%np.mean(popularity_auc))  \n",
        "   # Return the mean AUC rounded to three decimal places for both test and popularity benchmark"
      ],
      "execution_count": 0,
      "outputs": []
    },
    {
      "cell_type": "code",
      "metadata": {
        "id": "nm5vGgFrScaK",
        "colab_type": "code",
        "outputId": "bc7a1d62-c63b-4004-ef4c-4f69f7d05d57",
        "colab": {}
      },
      "source": [
        "calc_mean_auc(product_train, product_users_altered, \n",
        "              [sparse.csr_matrix(user_vecs), sparse.csr_matrix(item_vecs.T)], product_test)\n",
        "# AUC for our recommender system"
      ],
      "execution_count": 0,
      "outputs": [
        {
          "output_type": "execute_result",
          "data": {
            "text/plain": [
              "(0.505, 0.905)"
            ]
          },
          "metadata": {
            "tags": []
          },
          "execution_count": 20
        }
      ]
    },
    {
      "cell_type": "code",
      "metadata": {
        "id": "yhs9Px9JScaN",
        "colab_type": "code",
        "colab": {}
      },
      "source": [
        "#---check for some users w.r.t products----------\n",
        "\n",
        "customers_arr = np.array(customers) # Array of customer IDs from the ratings matrix\n",
        "products_arr = np.array(products) # Array of product IDs from the ratings matrix"
      ],
      "execution_count": 0,
      "outputs": []
    },
    {
      "cell_type": "code",
      "metadata": {
        "id": "m7aSvgePScaW",
        "colab_type": "code",
        "colab": {}
      },
      "source": [
        "def get_items_purchased(VisitorID, mf_train, customers_list, products_list, item_lookup):\n",
        "    \n",
        "    cust_ind = np.where(customers_list == VisitorID)[0][0] # Returns the index row of our customer id\n",
        "    purchased_ind = mf_train[cust_ind,:].nonzero()[1] # Get column indices of purchased items\n",
        "    #print(purchased_ind)\n",
        "    prod_codes = products_list[purchased_ind] # Get the stock codes for our purchased items\n",
        "    #print(prod_codes)\n",
        "    return item_lookup.loc[item_lookup.ProductID.isin(prod_codes)]"
      ],
      "execution_count": 0,
      "outputs": []
    },
    {
      "cell_type": "code",
      "metadata": {
        "id": "PmYDSMb0ScaZ",
        "colab_type": "code",
        "outputId": "336e1e17-c8f7-42c7-d9b7-f963110fb516",
        "colab": {
          "base_uri": "https://localhost:8080/",
          "height": 164
        }
      },
      "source": [
        "get_items_purchased(10, product_train, customers_arr, products_arr, item_lookup)"
      ],
      "execution_count": 0,
      "outputs": [
        {
          "output_type": "error",
          "ename": "NameError",
          "evalue": "ignored",
          "traceback": [
            "\u001b[0;31m---------------------------------------------------------------------------\u001b[0m",
            "\u001b[0;31mNameError\u001b[0m                                 Traceback (most recent call last)",
            "\u001b[0;32m<ipython-input-44-6dbfd67ca4bc>\u001b[0m in \u001b[0;36m<module>\u001b[0;34m()\u001b[0m\n\u001b[0;32m----> 1\u001b[0;31m \u001b[0mget_items_purchased\u001b[0m\u001b[0;34m(\u001b[0m\u001b[0;36m10\u001b[0m\u001b[0;34m,\u001b[0m \u001b[0mproduct_train\u001b[0m\u001b[0;34m,\u001b[0m \u001b[0mcustomers_arr\u001b[0m\u001b[0;34m,\u001b[0m \u001b[0mproducts_arr\u001b[0m\u001b[0;34m,\u001b[0m \u001b[0mitem_lookup\u001b[0m\u001b[0;34m)\u001b[0m\u001b[0;34m\u001b[0m\u001b[0;34m\u001b[0m\u001b[0m\n\u001b[0m",
            "\u001b[0;31mNameError\u001b[0m: name 'product_train' is not defined"
          ]
        }
      ]
    },
    {
      "cell_type": "code",
      "metadata": {
        "id": "MA4X1InbScad",
        "colab_type": "code",
        "outputId": "58878697-7103-4b55-bc6f-ce86e5739cf0",
        "colab": {}
      },
      "source": [
        "# -----------check with original dataset-----------\n",
        "\n",
        "(dataFile.loc[dataFile['VisitorID'] == 10])"
      ],
      "execution_count": 0,
      "outputs": [
        {
          "output_type": "execute_result",
          "data": {
            "text/html": [
              "<div>\n",
              "<style scoped>\n",
              "    .dataframe tbody tr th:only-of-type {\n",
              "        vertical-align: middle;\n",
              "    }\n",
              "\n",
              "    .dataframe tbody tr th {\n",
              "        vertical-align: top;\n",
              "    }\n",
              "\n",
              "    .dataframe thead th {\n",
              "        text-align: right;\n",
              "    }\n",
              "</style>\n",
              "<table border=\"1\" class=\"dataframe\">\n",
              "  <thead>\n",
              "    <tr style=\"text-align: right;\">\n",
              "      <th></th>\n",
              "      <th>Date</th>\n",
              "      <th>Visitor_ID</th>\n",
              "      <th>VisitorID</th>\n",
              "      <th>Visit_Number</th>\n",
              "      <th>Product_Description</th>\n",
              "      <th>ProductID</th>\n",
              "      <th>Category</th>\n",
              "      <th>Sub Class</th>\n",
              "      <th>Sub Collection</th>\n",
              "      <th>Collection</th>\n",
              "      <th>Orders</th>\n",
              "    </tr>\n",
              "  </thead>\n",
              "  <tbody>\n",
              "    <tr>\n",
              "      <th>13</th>\n",
              "      <td>1-Nov-15</td>\n",
              "      <td>2915202053596589768_6917530137893488047</td>\n",
              "      <td>10</td>\n",
              "      <td>3</td>\n",
              "      <td>36536 Polished Pebble Leather Mini Dufflett</td>\n",
              "      <td>114</td>\n",
              "      <td>D01 Womens Bags</td>\n",
              "      <td>Shoulder Bag</td>\n",
              "      <td>Polished Pebble Leather</td>\n",
              "      <td>Leather</td>\n",
              "      <td>1</td>\n",
              "    </tr>\n",
              "  </tbody>\n",
              "</table>\n",
              "</div>"
            ],
            "text/plain": [
              "        Date                               Visitor_ID  VisitorID  \\\n",
              "13  1-Nov-15  2915202053596589768_6917530137893488047         10   \n",
              "\n",
              "    Visit_Number                          Product_Description  ProductID  \\\n",
              "13             3  36536 Polished Pebble Leather Mini Dufflett        114   \n",
              "\n",
              "           Category     Sub Class           Sub Collection Collection  Orders  \n",
              "13  D01 Womens Bags  Shoulder Bag  Polished Pebble Leather    Leather       1  "
            ]
          },
          "metadata": {
            "tags": []
          },
          "execution_count": 46
        }
      ]
    },
    {
      "cell_type": "code",
      "metadata": {
        "id": "z53WZWnlPuj5",
        "colab_type": "code",
        "colab": {}
      },
      "source": [
        ""
      ],
      "execution_count": 0,
      "outputs": []
    },
    {
      "cell_type": "code",
      "metadata": {
        "id": "wYazKJ0JNuXh",
        "colab_type": "code",
        "outputId": "943f3380-4408-4179-8573-156e71e4d69c",
        "colab": {
          "base_uri": "https://localhost:8080/",
          "height": 34
        }
      },
      "source": [
        "a = np.array([0, 2, 0, 4]).reshape(-1) + 1\n",
        "a"
      ],
      "execution_count": 0,
      "outputs": [
        {
          "output_type": "execute_result",
          "data": {
            "text/plain": [
              "array([1, 3, 1, 5])"
            ]
          },
          "metadata": {
            "tags": []
          },
          "execution_count": 64
        }
      ]
    },
    {
      "cell_type": "code",
      "metadata": {
        "id": "gmQrgxffPLcq",
        "colab_type": "code",
        "outputId": "9f97d037-6215-4f36-ca01-6b83797a8ddd",
        "colab": {
          "base_uri": "https://localhost:8080/",
          "height": 34
        }
      },
      "source": [
        "a[a > 1] = 0\n",
        "a"
      ],
      "execution_count": 0,
      "outputs": [
        {
          "output_type": "execute_result",
          "data": {
            "text/plain": [
              "array([1, 0, 1, 0])"
            ]
          },
          "metadata": {
            "tags": []
          },
          "execution_count": 65
        }
      ]
    },
    {
      "cell_type": "code",
      "metadata": {
        "id": "KH1JN-LdScah",
        "colab_type": "code",
        "colab": {}
      },
      "source": [
        "def rec_items(VisitorID, mf_train, user_vecs, item_vecs, customer_list, item_list, item_lookup, num_items = 20):\n",
        "    \n",
        "    \n",
        "    cust_ind = np.where(customer_list == VisitorID)[0][0] # Returns the index row of our customer id\n",
        "    #print(cust_ind)\n",
        "    pref_vec = mf_train[cust_ind,:].toarray() # Get the ratings from the training set ratings matrix\n",
        "    pref_vec = pref_vec.reshape(-1) + 1 # Add 1 to everything, so that items not purchased yet become equal to 1\n",
        "    pref_vec[pref_vec > 1] = 0 # Make everything already purchased zero\n",
        "    rec_vector = user_vecs[cust_ind,:].dot(item_vecs.T) # Get dot product of user vector and all item vectors\n",
        "    # Scale this recommendation vector between 0 and 1\n",
        "    min_max = MinMaxScaler()\n",
        "    rec_vector_scaled = min_max.fit_transform(rec_vector.reshape(-1,1))[:,0] \n",
        "    recommend_vector = pref_vec*rec_vector_scaled \n",
        "    # Items already purchased have their recommendation multiplied by zero\n",
        "    product_idx = np.argsort(recommend_vector)[::-1][:num_items] # Sort the indices of the items into order \n",
        "    # of best recommendations\n",
        "    rec_list = [] # start empty list to store items\n",
        "    for index in product_idx:\n",
        "        code = item_list[index]\n",
        "        rec_list.append([code, item_lookup.Product_Description.loc[item_lookup.ProductID == code].iloc[0]]) \n",
        "        # Append our descriptions to the list\n",
        "    codes = [item[0] for item in rec_list]\n",
        "    Product_Description = [item[1] for item in rec_list]\n",
        "    final_frame = pd.DataFrame({'ProductID': codes, 'Product_Description': Product_Description}) # Create a dataframe \n",
        "    return final_frame[['ProductID', 'Product_Description']] # Switch order of columns around"
      ],
      "execution_count": 0,
      "outputs": []
    },
    {
      "cell_type": "code",
      "metadata": {
        "id": "aJcHYVkYScal",
        "colab_type": "code",
        "outputId": "80b24203-fb15-4524-cebc-48bf29913123",
        "colab": {}
      },
      "source": [
        "rec_items(111, product_train, user_vecs, item_vecs, customers_arr, products_arr, item_lookup,num_items = 20)"
      ],
      "execution_count": 0,
      "outputs": [
        {
          "output_type": "execute_result",
          "data": {
            "text/html": [
              "<div>\n",
              "<style scoped>\n",
              "    .dataframe tbody tr th:only-of-type {\n",
              "        vertical-align: middle;\n",
              "    }\n",
              "\n",
              "    .dataframe tbody tr th {\n",
              "        vertical-align: top;\n",
              "    }\n",
              "\n",
              "    .dataframe thead th {\n",
              "        text-align: right;\n",
              "    }\n",
              "</style>\n",
              "<table border=\"1\" class=\"dataframe\">\n",
              "  <thead>\n",
              "    <tr style=\"text-align: right;\">\n",
              "      <th></th>\n",
              "      <th>ProductID</th>\n",
              "      <th>Product_Description</th>\n",
              "    </tr>\n",
              "  </thead>\n",
              "  <tbody>\n",
              "    <tr>\n",
              "      <th>0</th>\n",
              "      <td>569</td>\n",
              "      <td>36456 Signature Canvas Turnlock Tote</td>\n",
              "    </tr>\n",
              "    <tr>\n",
              "      <th>1</th>\n",
              "      <td>1037</td>\n",
              "      <td>63163B Box Program Crossgrain Pocket Univ Wall</td>\n",
              "    </tr>\n",
              "    <tr>\n",
              "      <th>2</th>\n",
              "      <td>1047</td>\n",
              "      <td>36544 Polished Pbbl Lthr Mini Prince St Satchl</td>\n",
              "    </tr>\n",
              "    <tr>\n",
              "      <th>3</th>\n",
              "      <td>168</td>\n",
              "      <td>65132B Box Prgm Zebra Printed Canvas Corner Zip</td>\n",
              "    </tr>\n",
              "    <tr>\n",
              "      <th>4</th>\n",
              "      <td>788</td>\n",
              "      <td>34939 Xgrain Leather Prince Street Satchel</td>\n",
              "    </tr>\n",
              "    <tr>\n",
              "      <th>5</th>\n",
              "      <td>522</td>\n",
              "      <td>35950 Jumbo Whiplash Ltr Coach Central Satchel</td>\n",
              "    </tr>\n",
              "    <tr>\n",
              "      <th>6</th>\n",
              "      <td>359</td>\n",
              "      <td>35964 Metallic Pebble Leather Nolita Satchel</td>\n",
              "    </tr>\n",
              "    <tr>\n",
              "      <th>7</th>\n",
              "      <td>778</td>\n",
              "      <td>36372 Plaid Printed Leather Pop Up Crossbody</td>\n",
              "    </tr>\n",
              "    <tr>\n",
              "      <th>8</th>\n",
              "      <td>1058</td>\n",
              "      <td>34311 Polished Pebbled Lthr Large Scout Hobo</td>\n",
              "    </tr>\n",
              "    <tr>\n",
              "      <th>9</th>\n",
              "      <td>228</td>\n",
              "      <td>33521 Embsd Horse And Carriage Charley Crsbdy</td>\n",
              "    </tr>\n",
              "    <tr>\n",
              "      <th>10</th>\n",
              "      <td>216</td>\n",
              "      <td>Q7659 Angela- Rivet City Heel Boot</td>\n",
              "    </tr>\n",
              "    <tr>\n",
              "      <th>11</th>\n",
              "      <td>241</td>\n",
              "      <td>64283 Signature Jacquard Corner Zip</td>\n",
              "    </tr>\n",
              "    <tr>\n",
              "      <th>12</th>\n",
              "      <td>165</td>\n",
              "      <td>64747B Bp Colorblock Lth Charm Flat Card Cs</td>\n",
              "    </tr>\n",
              "    <tr>\n",
              "      <th>13</th>\n",
              "      <td>131</td>\n",
              "      <td>35819 Jumbo Whiplash Edie Shoulder Bag</td>\n",
              "    </tr>\n",
              "    <tr>\n",
              "      <th>14</th>\n",
              "      <td>906</td>\n",
              "      <td>36498 Colorblock Exotics Coach Swagger Cry</td>\n",
              "    </tr>\n",
              "    <tr>\n",
              "      <th>15</th>\n",
              "      <td>325</td>\n",
              "      <td>53551 Shearling Crossbody Pouch</td>\n",
              "    </tr>\n",
              "    <tr>\n",
              "      <th>16</th>\n",
              "      <td>215</td>\n",
              "      <td>99737 Halo Stud Earrings</td>\n",
              "    </tr>\n",
              "    <tr>\n",
              "      <th>17</th>\n",
              "      <td>143</td>\n",
              "      <td>64391 Metallic Caviar Calf Sm Dbl Zip Coin Cs</td>\n",
              "    </tr>\n",
              "    <tr>\n",
              "      <th>18</th>\n",
              "      <td>426</td>\n",
              "      <td>36502 Metallic Pebble Lt Coach Swagger Swngpck</td>\n",
              "    </tr>\n",
              "    <tr>\n",
              "      <th>19</th>\n",
              "      <td>132</td>\n",
              "      <td>36468 Bicolor Refined Pbbl Edie 31 Shlr Bag</td>\n",
              "    </tr>\n",
              "  </tbody>\n",
              "</table>\n",
              "</div>"
            ],
            "text/plain": [
              "    ProductID                              Product_Description\n",
              "0         569             36456 Signature Canvas Turnlock Tote\n",
              "1        1037   63163B Box Program Crossgrain Pocket Univ Wall\n",
              "2        1047   36544 Polished Pbbl Lthr Mini Prince St Satchl\n",
              "3         168  65132B Box Prgm Zebra Printed Canvas Corner Zip\n",
              "4         788       34939 Xgrain Leather Prince Street Satchel\n",
              "5         522   35950 Jumbo Whiplash Ltr Coach Central Satchel\n",
              "6         359     35964 Metallic Pebble Leather Nolita Satchel\n",
              "7         778     36372 Plaid Printed Leather Pop Up Crossbody\n",
              "8        1058     34311 Polished Pebbled Lthr Large Scout Hobo\n",
              "9         228    33521 Embsd Horse And Carriage Charley Crsbdy\n",
              "10        216               Q7659 Angela- Rivet City Heel Boot\n",
              "11        241              64283 Signature Jacquard Corner Zip\n",
              "12        165      64747B Bp Colorblock Lth Charm Flat Card Cs\n",
              "13        131           35819 Jumbo Whiplash Edie Shoulder Bag\n",
              "14        906       36498 Colorblock Exotics Coach Swagger Cry\n",
              "15        325                  53551 Shearling Crossbody Pouch\n",
              "16        215                         99737 Halo Stud Earrings\n",
              "17        143    64391 Metallic Caviar Calf Sm Dbl Zip Coin Cs\n",
              "18        426   36502 Metallic Pebble Lt Coach Swagger Swngpck\n",
              "19        132      36468 Bicolor Refined Pbbl Edie 31 Shlr Bag"
            ]
          },
          "metadata": {
            "tags": []
          },
          "execution_count": 50
        }
      ]
    },
    {
      "cell_type": "code",
      "metadata": {
        "id": "L-TCe6XrScao",
        "colab_type": "code",
        "colab": {}
      },
      "source": [
        ""
      ],
      "execution_count": 0,
      "outputs": []
    },
    {
      "cell_type": "code",
      "metadata": {
        "id": "3gLvVp8DScar",
        "colab_type": "code",
        "outputId": "e06dca2c-1f91-46c6-8dc3-d57a0a935b7c",
        "colab": {}
      },
      "source": [
        "#-------------LIGHT FM--------------------\n",
        "\n",
        "model = LightFM(learning_rate=0.05, loss='bpr')\n",
        "model.fit(product_train, epochs=10)\n",
        "\n",
        "train_precision = precision_at_k(model, product_train, k=10).mean()\n",
        "test_precision = precision_at_k(model, product_test, k=10).mean()\n",
        "\n",
        "train_auc = auc_score(model, product_train).mean()\n",
        "test_auc = auc_score(model, product_test).mean()\n",
        "\n",
        "print('Precision: train %.2f, test %.2f.' % (train_precision, test_precision))\n",
        "print('AUC: train %.2f, test %.2f.' % (train_auc, test_auc))"
      ],
      "execution_count": 0,
      "outputs": [
        {
          "output_type": "stream",
          "text": [
            "Precision: train 0.05, test 0.04.\n",
            "AUC: train 0.87, test 0.79.\n"
          ],
          "name": "stdout"
        }
      ]
    },
    {
      "cell_type": "code",
      "metadata": {
        "id": "UvJohaaSScat",
        "colab_type": "code",
        "outputId": "fdfd59f6-0168-4f6b-a06c-91e91975c104",
        "colab": {}
      },
      "source": [
        "model = LightFM(learning_rate=0.05, loss='warp')\n",
        "\n",
        "model.fit_partial(product_train, epochs=10)\n",
        "\n",
        "train_precision = precision_at_k(model, product_train, k=10).mean()\n",
        "test_precision = precision_at_k(model, product_test, k=10).mean()\n",
        "\n",
        "train_auc = auc_score(model, product_train).mean()\n",
        "test_auc = auc_score(model, product_test).mean()\n",
        "\n",
        "print('Precision: train %.2f, test %.2f.' % (train_precision, test_precision))\n",
        "print('AUC: train %.2f, test %.2f.' % (train_auc, test_auc))"
      ],
      "execution_count": 0,
      "outputs": [
        {
          "output_type": "stream",
          "text": [
            "Precision: train 0.08, test 0.07.\n",
            "AUC: train 0.99, test 0.97.\n"
          ],
          "name": "stdout"
        }
      ]
    },
    {
      "cell_type": "code",
      "metadata": {
        "id": "MgMSDUteScaz",
        "colab_type": "code",
        "colab": {}
      },
      "source": [
        "#-------------different learning schedules---------------------------\n",
        "\n",
        "alpha = 1e-3\n",
        "epochs = 70\n",
        "\n",
        "adagrad_model = LightFM(no_components=30,\n",
        "                        loss='warp',\n",
        "                        learning_schedule='adagrad',\n",
        "                        user_alpha=alpha,\n",
        "                        item_alpha=alpha)\n",
        "adadelta_model = LightFM(no_components=30,\n",
        "                        loss='warp',\n",
        "                        learning_schedule='adadelta',\n",
        "                        user_alpha=alpha,\n",
        "                        item_alpha=alpha)\n",
        "\n",
        "adagrad_auc = []\n",
        "\n",
        "for epoch in range(epochs):\n",
        "    adagrad_model.fit_partial(product_train, epochs=1)\n",
        "    adagrad_auc.append(auc_score(adagrad_model, product_test).mean())\n",
        "\n",
        "\n",
        "adadelta_auc = []\n",
        "\n",
        "for epoch in range(epochs):\n",
        "    adadelta_model.fit_partial(product_train, epochs=1)\n",
        "    adadelta_auc.append(auc_score(adadelta_model, product_test).mean())"
      ],
      "execution_count": 0,
      "outputs": []
    },
    {
      "cell_type": "code",
      "metadata": {
        "id": "x8VHWLcNSca4",
        "colab_type": "code",
        "outputId": "3e156938-3b7a-4bc5-a94f-d2b305660c2b",
        "colab": {}
      },
      "source": [
        "x = np.arange(len(adagrad_auc))\n",
        "plt.plot(x, np.array(adagrad_auc))\n",
        "plt.plot(x, np.array(adadelta_auc))\n",
        "plt.legend(['adagrad', 'adadelta'], loc='lower right')\n",
        "plt.show()"
      ],
      "execution_count": 0,
      "outputs": [
        {
          "output_type": "display_data",
          "data": {
            "image/png": "[encoded data removed]",
            "text/plain": [
              "<matplotlib.figure.Figure at 0xaf2c4a8>"
            ]
          },
          "metadata": {
            "tags": []
          }
        }
      ]
    },
    {
      "cell_type": "code",
      "metadata": {
        "id": "kWrAii1hSca-",
        "colab_type": "code",
        "colab": {}
      },
      "source": [
        "alpha = 1e-3\n",
        "epochs = 70\n",
        "\n",
        "adagrad_model = LightFM(no_components=10,\n",
        "                        loss='warp-kos',\n",
        "                        learning_schedule='adagrad',\n",
        "                        user_alpha=alpha, item_alpha=alpha)\n",
        "adadelta_model = LightFM(no_components=10,\n",
        "                        loss='warp-kos',\n",
        "                        learning_schedule='adadelta',\n",
        "                        user_alpha=alpha, item_alpha=alpha)\n",
        "\n",
        "adagrad_auc = []\n",
        "\n",
        "for epoch in range(epochs):\n",
        "    adagrad_model.fit_partial(product_train, epochs=1)\n",
        "    adagrad_auc.append(auc_score(adagrad_model, product_test).mean())\n",
        "\n",
        "\n",
        "adadelta_auc = []\n",
        "\n",
        "for epoch in range(epochs):\n",
        "    adadelta_model.fit_partial(product_train, epochs=1)\n",
        "    adadelta_auc.append(auc_score(adadelta_model, product_test).mean())"
      ],
      "execution_count": 0,
      "outputs": []
    },
    {
      "cell_type": "code",
      "metadata": {
        "id": "jJHt_5zFScbJ",
        "colab_type": "code",
        "outputId": "8dfb6b57-bc04-408e-d69d-51409538707c",
        "colab": {}
      },
      "source": [
        "x = np.arange(len(adagrad_auc))\n",
        "plt.plot(x, np.array(adagrad_auc))\n",
        "plt.plot(x, np.array(adadelta_auc))\n",
        "plt.legend(['adagrad', 'adadelta'], loc='lower right')\n",
        "plt.show()"
      ],
      "execution_count": 0,
      "outputs": [
        {
          "output_type": "display_data",
          "data": {
            "image/png": "[encoded data removed]",
            "text/plain": [
              "<matplotlib.figure.Figure at 0xc9aae10>"
            ]
          },
          "metadata": {
            "tags": []
          }
        }
      ]
    },
    {
      "cell_type": "code",
      "metadata": {
        "id": "nq4Lp6vnScbZ",
        "colab_type": "code",
        "colab": {}
      },
      "source": [
        ""
      ],
      "execution_count": 0,
      "outputs": []
    },
    {
      "cell_type": "code",
      "metadata": {
        "id": "oUzRyE9SScbf",
        "colab_type": "code",
        "colab": {}
      },
      "source": [
        ""
      ],
      "execution_count": 0,
      "outputs": []
    }
  ]
}