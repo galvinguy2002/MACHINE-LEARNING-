{
 "cells": [
  {
   "cell_type": "markdown",
   "metadata": {},
   "source": [
    "# Python Loops"
   ]
  },
  {
   "cell_type": "markdown",
   "metadata": {},
   "source": [
    "1. While Loop\n",
    "--> The While Loop executes a piece of code until the condition passed remains true. Once the condition fails, the control flow comes out of the loop."
   ]
  },
  {
   "cell_type": "code",
   "execution_count": 2,
   "metadata": {},
   "outputs": [
    {
     "name": "stdout",
     "output_type": "stream",
     "text": [
      "2\n",
      "3\n",
      "4\n",
      "5\n",
      "6\n",
      "Loop Terminated\n"
     ]
    }
   ],
   "source": [
    "#Simple While loop\n",
    "\n",
    "i = 1\n",
    "\n",
    "while i<=5:\n",
    "    i = i + 1\n",
    "    print(i)\n",
    "    \n",
    "print('Loop Terminated')"
   ]
  },
  {
   "cell_type": "markdown",
   "metadata": {},
   "source": [
    "In above cell, we initialised a variable i to 1. In the while condition we gave the condition that, as long as i is less than i print i. And we increament i at every iteration. Once the condition fails , i.e i becomes 6, control flow comes out of the loop."
   ]
  },
  {
   "cell_type": "code",
   "execution_count": 8,
   "metadata": {},
   "outputs": [
    {
     "name": "stdout",
     "output_type": "stream",
     "text": [
      "Total Sum is : 2550\n"
     ]
    }
   ],
   "source": [
    "#Finding Sum of even numbers between 1 to 100\n",
    "\n",
    "i = 1\n",
    "c = 0\n",
    "\n",
    "while i<=100:\n",
    "    if i%2 == 0:\n",
    "        c = c + i\n",
    "    i = i + 1\n",
    "print('Total Sum is : ' + str(c))"
   ]
  },
  {
   "cell_type": "markdown",
   "metadata": {},
   "source": [
    "2. For Loop --> While 'While Loop' goes on executing a block of code untill the condition remains true, For loop executes a block of code for a specified number of times."
   ]
  },
  {
   "cell_type": "code",
   "execution_count": 17,
   "metadata": {},
   "outputs": [
    {
     "name": "stdout",
     "output_type": "stream",
     "text": [
      "0\n",
      "1\n",
      "2\n",
      "3\n",
      "4\n"
     ]
    }
   ],
   "source": [
    "numsequence = range(5)\n",
    "\n",
    "for i in numsequence:\n",
    "    print i"
   ]
  },
  {
   "cell_type": "code",
   "execution_count": 3,
   "metadata": {},
   "outputs": [],
   "source": [
    "a = range(5)"
   ]
  },
  {
   "cell_type": "code",
   "execution_count": 4,
   "metadata": {},
   "outputs": [
    {
     "data": {
      "text/plain": [
       "[0, 1, 2, 3, 4]"
      ]
     },
     "execution_count": 4,
     "metadata": {},
     "output_type": "execute_result"
    }
   ],
   "source": [
    "a"
   ]
  },
  {
   "cell_type": "code",
   "execution_count": 11,
   "metadata": {},
   "outputs": [
    {
     "ename": "TypeError",
     "evalue": "unsupported operand type(s) for &: 'list' and 'int'",
     "output_type": "error",
     "traceback": [
      "\u001b[1;31m---------------------------------------------------------------------------\u001b[0m",
      "\u001b[1;31mTypeError\u001b[0m                                 Traceback (most recent call last)",
      "\u001b[1;32m<ipython-input-11-5c1d9455311b>\u001b[0m in \u001b[0;36m<module>\u001b[1;34m()\u001b[0m\n\u001b[1;32m----> 1\u001b[1;33m \u001b[1;32mfor\u001b[0m \u001b[0mi\u001b[0m \u001b[1;32min\u001b[0m \u001b[0mrange\u001b[0m\u001b[1;33m(\u001b[0m\u001b[1;36m5\u001b[0m\u001b[1;33m)\u001b[0m \u001b[1;33m&\u001b[0m \u001b[0mj\u001b[0m \u001b[1;32min\u001b[0m \u001b[0mrange\u001b[0m\u001b[1;33m(\u001b[0m\u001b[1;36m5\u001b[0m\u001b[1;33m)\u001b[0m\u001b[1;33m:\u001b[0m\u001b[1;33m\u001b[0m\u001b[0m\n\u001b[0m\u001b[0;32m      2\u001b[0m     \u001b[1;32mprint\u001b[0m\u001b[1;33m(\u001b[0m\u001b[0mi\u001b[0m\u001b[1;33m)\u001b[0m\u001b[1;33m\u001b[0m\u001b[0m\n\u001b[0;32m      3\u001b[0m     \u001b[1;32mprint\u001b[0m\u001b[1;33m(\u001b[0m\u001b[0mj\u001b[0m\u001b[1;33m)\u001b[0m\u001b[1;33m\u001b[0m\u001b[0m\n",
      "\u001b[1;31mTypeError\u001b[0m: unsupported operand type(s) for &: 'list' and 'int'"
     ]
    }
   ],
   "source": [
    "for i in range(5) & j in range(5):\n",
    "    print(i)\n",
    "    print(j)"
   ]
  },
  {
   "cell_type": "markdown",
   "metadata": {},
   "source": [
    "In the above code, we created a sequence of number ranging from 0-4 using range function. The for loop loops through each number in numsequence and prints it."
   ]
  },
  {
   "cell_type": "code",
   "execution_count": 12,
   "metadata": {},
   "outputs": [
    {
     "name": "stdout",
     "output_type": "stream",
     "text": [
      "Current alphabet is : A\n",
      "Current alphabet is : B\n",
      "Current alphabet is : C\n",
      "Current alphabet is : D\n",
      "Current alphabet is : E\n"
     ]
    }
   ],
   "source": [
    "list1 = ['A', 'B', 'C', 'D', 'E']\n",
    "\n",
    "for i in range(len(list1)):\n",
    "    print('Current alphabet is : ' + list1[i])"
   ]
  },
  {
   "cell_type": "code",
   "execution_count": 10,
   "metadata": {},
   "outputs": [
    {
     "name": "stdout",
     "output_type": "stream",
     "text": [
      "A\n",
      "B\n",
      "C\n",
      "D\n",
      "E\n"
     ]
    }
   ],
   "source": [
    "list1 = ['A', 'B', 'C', 'D', 'E']\n",
    "\n",
    "for i in list1:\n",
    "    print i"
   ]
  },
  {
   "cell_type": "markdown",
   "metadata": {},
   "source": [
    "In the above code, we created a list of letters. Next we calculated length of the list to create a range of numbers. And then we looped through each number and fetched each letter in the list by indexing."
   ]
  },
  {
   "cell_type": "markdown",
   "metadata": {},
   "source": [
    "# While Loop v/s For Loop"
   ]
  },
  {
   "cell_type": "markdown",
   "metadata": {},
   "source": [
    "Both While and For loop can be used to loop through a piece of code. But there is an advantage of using for loop over While loop in terms of execution time. Let's look at the below example."
   ]
  },
  {
   "cell_type": "code",
   "execution_count": 10,
   "metadata": {},
   "outputs": [
    {
     "data": {
      "text/plain": [
       "54.787728200000004"
      ]
     },
     "execution_count": 10,
     "metadata": {},
     "output_type": "execute_result"
    }
   ],
   "source": [
    "import timeit\n",
    "\n",
    "def for_loop():\n",
    "    for i in range(1000):\n",
    "        a = 2 + 2\n",
    "        \n",
    "timeit.timeit(for_loop)"
   ]
  },
  {
   "cell_type": "code",
   "execution_count": 15,
   "metadata": {},
   "outputs": [
    {
     "name": "stdout",
     "output_type": "stream",
     "text": [
      "Wall time: 13.9 s\n"
     ]
    }
   ],
   "source": [
    "%%time\n",
    "for i in range(100000000):\n",
    "        a = 2 + 2"
   ]
  },
  {
   "cell_type": "code",
   "execution_count": 17,
   "metadata": {},
   "outputs": [
    {
     "name": "stdout",
     "output_type": "stream",
     "text": [
      "Wall time: 17.2 s\n"
     ]
    }
   ],
   "source": [
    "%%time\n",
    "c = 0\n",
    "while c<100000000:\n",
    "    a = 2 + 2\n",
    "    c = c + 1"
   ]
  },
  {
   "cell_type": "code",
   "execution_count": 22,
   "metadata": {},
   "outputs": [
    {
     "data": {
      "text/plain": [
       "59.72825030000001"
      ]
     },
     "execution_count": 22,
     "metadata": {},
     "output_type": "execute_result"
    }
   ],
   "source": [
    "import timeit\n",
    "\n",
    "def while_loop():\n",
    "    c = 0\n",
    "    while c<1000:\n",
    "        a = 2 + 2\n",
    "        c = c + 1\n",
    "        \n",
    "timeit.timeit(while_loop)"
   ]
  },
  {
   "cell_type": "raw",
   "metadata": {},
   "source": [
    "The timeit function used above gives you the time taken to execute a block of code. It's pretty apparent from above stats that for loop is much faster than while loop."
   ]
  },
  {
   "cell_type": "markdown",
   "metadata": {},
   "source": [
    "# Break and Continue"
   ]
  },
  {
   "cell_type": "markdown",
   "metadata": {},
   "source": [
    "Break and Continue keywords can be used to come out of a loop when certain conditions are matched."
   ]
  },
  {
   "cell_type": "markdown",
   "metadata": {},
   "source": [
    "Break Statement."
   ]
  },
  {
   "cell_type": "code",
   "execution_count": 16,
   "metadata": {},
   "outputs": [
    {
     "name": "stdout",
     "output_type": "stream",
     "text": [
      "1\n",
      "2\n",
      "3\n",
      "4\n",
      "5\n",
      "6\n",
      "7\n",
      "8\n"
     ]
    }
   ],
   "source": [
    "c = 1\n",
    "\n",
    "while c<10:\n",
    "    print(c)\n",
    "    if c == 8:\n",
    "        break\n",
    "    c = c + 1"
   ]
  },
  {
   "cell_type": "markdown",
   "metadata": {},
   "source": [
    "In the above code, while condition should be executed untill the condition c<10 is True. But inside while loop we have given another condition that as soon as c becomes equal to 8 break statement should be encounterd. And hence the loop is exited when c = 8."
   ]
  },
  {
   "cell_type": "markdown",
   "metadata": {},
   "source": [
    "Continue Statement"
   ]
  },
  {
   "cell_type": "markdown",
   "metadata": {},
   "source": [
    "The difference between Break and Continue statement is that when condition is true Break statement exits the loop, where as Continue statement skips that loop and starts the loop from the begining."
   ]
  },
  {
   "cell_type": "code",
   "execution_count": 18,
   "metadata": {},
   "outputs": [
    {
     "name": "stdout",
     "output_type": "stream",
     "text": [
      "1\n",
      "2\n",
      "3\n",
      "4\n",
      "5\n",
      "6\n",
      "7\n",
      "9\n",
      "10\n"
     ]
    }
   ],
   "source": [
    "c = 0\n",
    "\n",
    "while c<10:\n",
    "    c = c + 1\n",
    "    if c == 8:\n",
    "        continue\n",
    "    print(c)\n",
    "    "
   ]
  },
  {
   "cell_type": "code",
   "execution_count": 12,
   "metadata": {},
   "outputs": [
    {
     "name": "stdout",
     "output_type": "stream",
     "text": [
      "1\n",
      "2\n",
      "3\n",
      "4\n",
      "5\n",
      "6\n",
      "7\n",
      "9\n",
      "10\n"
     ]
    }
   ],
   "source": [
    "c = 0\n",
    "while c<10:\n",
    "    c = c + 1\n",
    "    if c == 8:\n",
    "        continue \n",
    "    print c"
   ]
  },
  {
   "cell_type": "code",
   "execution_count": null,
   "metadata": {},
   "outputs": [],
   "source": [
    "qweqwe"
   ]
  },
  {
   "cell_type": "code",
   "execution_count": 26,
   "metadata": {},
   "outputs": [
    {
     "name": "stdout",
     "output_type": "stream",
     "text": [
      "1\n"
     ]
    }
   ],
   "source": [
    "i=1\n",
    "f=1\n",
    "n = 0\n",
    "while(i<=n):\n",
    "          f=f*i\n",
    "          i = i+1\n",
    "print(f)"
   ]
  },
  {
   "cell_type": "code",
   "execution_count": 23,
   "metadata": {},
   "outputs": [
    {
     "name": "stdout",
     "output_type": "stream",
     "text": [
      "0\n"
     ]
    }
   ],
   "source": [
    "i = 0 #input value\n",
    "c = i #stores the final answer\n",
    "while i > 1:\n",
    "    i -= 1\n",
    "    c *=  i\n",
    "print(c)\n"
   ]
  },
  {
   "cell_type": "code",
   "execution_count": 33,
   "metadata": {},
   "outputs": [
    {
     "name": "stdout",
     "output_type": "stream",
     "text": [
      "The factorial of 0 is 1\n"
     ]
    }
   ],
   "source": [
    "c = 0\n",
    "factorial=1\n",
    "for i in range(1,c + 1):\n",
    "    factorial = factorial*i\n",
    "print('The factorial of '+ str(c)+\" is \"+str(factorial))"
   ]
  },
  {
   "cell_type": "code",
   "execution_count": 30,
   "metadata": {},
   "outputs": [
    {
     "ename": "NameError",
     "evalue": "name 'factorial' is not defined",
     "output_type": "error",
     "traceback": [
      "\u001b[1;31m---------------------------------------------------------------------------\u001b[0m",
      "\u001b[1;31mNameError\u001b[0m                                 Traceback (most recent call last)",
      "\u001b[1;32m<ipython-input-30-d5f138dd8580>\u001b[0m in \u001b[0;36m<module>\u001b[1;34m()\u001b[0m\n\u001b[0;32m      1\u001b[0m \u001b[0mc\u001b[0m \u001b[1;33m=\u001b[0m \u001b[1;36m5\u001b[0m\u001b[1;33m\u001b[0m\u001b[0m\n\u001b[0;32m      2\u001b[0m \u001b[1;32mfor\u001b[0m \u001b[0mi\u001b[0m \u001b[1;32min\u001b[0m \u001b[0mrange\u001b[0m\u001b[1;33m(\u001b[0m\u001b[1;36m1\u001b[0m\u001b[1;33m,\u001b[0m\u001b[0mc\u001b[0m \u001b[1;33m+\u001b[0m \u001b[1;36m1\u001b[0m\u001b[1;33m)\u001b[0m\u001b[1;33m:\u001b[0m\u001b[1;33m\u001b[0m\u001b[0m\n\u001b[1;32m----> 3\u001b[1;33m     \u001b[0mfactorial\u001b[0m \u001b[1;33m=\u001b[0m \u001b[0mfactorial\u001b[0m\u001b[1;33m*\u001b[0m\u001b[0mi\u001b[0m\u001b[1;33m\u001b[0m\u001b[0m\n\u001b[0m\u001b[0;32m      4\u001b[0m \u001b[1;32mprint\u001b[0m\u001b[1;33m(\u001b[0m\u001b[1;34m'The factorial of'\u001b[0m\u001b[1;33m,\u001b[0m\u001b[1;33m+\u001b[0m\u001b[0mstr\u001b[0m\u001b[1;33m(\u001b[0m\u001b[0mc\u001b[0m\u001b[1;33m)\u001b[0m\u001b[1;33m,\u001b[0m\u001b[1;34m'is'\u001b[0m\u001b[1;33m,\u001b[0m\u001b[1;33m+\u001b[0m\u001b[0mstr\u001b[0m\u001b[1;33m(\u001b[0m\u001b[0mfactorial\u001b[0m\u001b[1;33m)\u001b[0m\u001b[1;33m)\u001b[0m\u001b[1;33m\u001b[0m\u001b[0m\n",
      "\u001b[1;31mNameError\u001b[0m: name 'factorial' is not defined"
     ]
    }
   ],
   "source": [
    "c = 5\n",
    "for i in range(1,c + 1):\n",
    "    factorial = factorial*i\n",
    "print('The factorial of',+str(c),'is',+str(factorial))\n"
   ]
  },
  {
   "cell_type": "code",
   "execution_count": 36,
   "metadata": {},
   "outputs": [
    {
     "name": "stdout",
     "output_type": "stream",
     "text": [
      "1\n"
     ]
    }
   ],
   "source": [
    "i = 1 \n",
    "fact = 1 #stores the final answer\n",
    "n = 0\n",
    "for i in range(n+1):\n",
    "    if i == 0:\n",
    "        continue\n",
    "    fact *= i\n",
    "    i += 1\n",
    "print(fact)"
   ]
  },
  {
   "cell_type": "code",
   "execution_count": 39,
   "metadata": {},
   "outputs": [
    {
     "name": "stdout",
     "output_type": "stream",
     "text": [
      "1\n"
     ]
    }
   ],
   "source": [
    "e = 0\n",
    "c = 1#store answer\n",
    "i = c\n",
    "while i<=e or e==0:\n",
    "    if e == 0:\n",
    "        c = 1\n",
    "        break\n",
    "    c = c*i\n",
    "    i+=1\n",
    "print(c)"
   ]
  },
  {
   "cell_type": "markdown",
   "metadata": {},
   "source": [
    "In the above code, when c = 8, loop will be skipped and jumped to next iteration."
   ]
  },
  {
   "cell_type": "markdown",
   "metadata": {},
   "source": [
    "# Few more examples"
   ]
  },
  {
   "cell_type": "markdown",
   "metadata": {},
   "source": [
    "While loop"
   ]
  },
  {
   "cell_type": "code",
   "execution_count": 24,
   "metadata": {},
   "outputs": [
    {
     "name": "stdout",
     "output_type": "stream",
     "text": [
      "Factorial of 5 is 120\n"
     ]
    }
   ],
   "source": [
    "#Calculate Factorial of a given number using loop\n",
    "\n",
    "c = 5\n",
    "e = c\n",
    "i = 0\n",
    "if c == 0:\n",
    "    print('Factorial of 0 is 1')\n",
    "else:\n",
    "    while c != 0:\n",
    "        if i == 0:\n",
    "            i = c\n",
    "            c = c - 1\n",
    "        else:\n",
    "            i = i * c\n",
    "            c = c - 1\n",
    "    print('Factorial of ' + str(e) + ' is ' + str(i))"
   ]
  },
  {
   "cell_type": "code",
   "execution_count": 40,
   "metadata": {},
   "outputs": [
    {
     "name": "stdout",
     "output_type": "stream",
     "text": [
      "Factorial of  0  is:120\n",
      "Wall time: 1e+03 µs\n"
     ]
    }
   ],
   "source": [
    "%%time\n",
    "\n",
    "f=1\n",
    "i=5\n",
    "while i>=1:\n",
    "    f=f*i\n",
    "    i=i-1\n",
    "print('Factorial of  '+str(i)+'  is:' +str(f))"
   ]
  },
  {
   "cell_type": "code",
   "execution_count": 27,
   "metadata": {},
   "outputs": [
    {
     "name": "stdout",
     "output_type": "stream",
     "text": [
      "3840\n"
     ]
    }
   ],
   "source": [
    "#Multiply all even numbers between a range of numbers\n",
    "\n",
    "a = 10\n",
    "c = 1\n",
    "for i in range(a+1):\n",
    "    if i == 0:\n",
    "        continue\n",
    "    elif i%2 == 0:\n",
    "        c = c * i\n",
    "    else:\n",
    "        continue\n",
    "print(c)"
   ]
  },
  {
   "cell_type": "code",
   "execution_count": 68,
   "metadata": {},
   "outputs": [
    {
     "name": "stdout",
     "output_type": "stream",
     "text": [
      "Sum is 19\n"
     ]
    }
   ],
   "source": [
    "#Calculate sum of all integers in a given number\n",
    "#Ex: Input - 123, Output = 6\n",
    "\n",
    "a = 1567\n",
    "a = str(a)\n",
    "c = 0\n",
    "\n",
    "for i in range(len(a)):\n",
    "    c = c + int(a[i])\n",
    "\n",
    "print('Sum is ' + str(c))"
   ]
  },
  {
   "cell_type": "code",
   "execution_count": 70,
   "metadata": {},
   "outputs": [
    {
     "name": "stdout",
     "output_type": "stream",
     "text": [
      "153\n",
      "370\n",
      "371\n",
      "407\n"
     ]
    }
   ],
   "source": [
    "#A three digit number is called Armstrong number if sum of cube of its digit is equal to number itself.\n",
    "#E.g.- 153 is an Armstrong number because (1)^3+(5)^3+(3)^3 = 153.\n",
    "#Write all Armstrong numbers between 100 to 500\n",
    "\n",
    "a  = range(100, 501)\n",
    "\n",
    "for i in a:\n",
    "    i = str(i)\n",
    "    c = (int(i[0])**3) + (int(i[1])**3) + (int(i[2])**3)\n",
    "    if c == int(i):\n",
    "        print c"
   ]
  },
  {
   "cell_type": "markdown",
   "metadata": {},
   "source": [
    "Practice Problems"
   ]
  },
  {
   "cell_type": "markdown",
   "metadata": {},
   "source": [
    "Write a program to reverse a given number:\n",
    "-->Input - 123, Output - 321"
   ]
  },
  {
   "cell_type": "markdown",
   "metadata": {},
   "source": [
    "Calulate average value of all even numbers between 1 to 100 using loops"
   ]
  },
  {
   "cell_type": "markdown",
   "metadata": {},
   "source": [
    "Write a program to find the numbers which are divisible by 7 and multiple of 5 between 500 to 100 (Both Numbers Inclusive)"
   ]
  },
  {
   "cell_type": "markdown",
   "metadata": {},
   "source": [
    "Write a program which iterates through 1 to 50, and if the number is multiple of 3 print Multiple of 3, if number is multiple of 5 print Multiple if 5, if number is multiple of both 3 and 5 print Multiple of 3 and 5. Else print the number."
   ]
  },
  {
   "cell_type": "code",
   "execution_count": 36,
   "metadata": {},
   "outputs": [
    {
     "name": "stdout",
     "output_type": "stream",
     "text": [
      "321\n"
     ]
    }
   ],
   "source": [
    "a = 123\n",
    "c = str(a)\n",
    "d = ''\n",
    "\n",
    "for i in range(len(c)):\n",
    "    d = c[i] + d\n",
    "\n",
    "print d"
   ]
  },
  {
   "cell_type": "code",
   "execution_count": null,
   "metadata": {},
   "outputs": [],
   "source": [
    "number = int(input(\"Please enter a number: \"))\n",
    "print('Reverse of number '+str(number)+ 'is :')\n",
    "sum = 0\n",
    "# while loop to iterate through all the digits of input number\n",
    "while number > 0:\n",
    "    rem = number % 10\n",
    "    number = int(number/10)\n",
    "    if number == 0:\n",
    "        sum = sum + rem\n",
    "    else:\n",
    "        sum = sum*10 + rem*10\n",
    "print(sum)\n"
   ]
  }
 ],
 "metadata": {
  "kernelspec": {
   "display_name": "Python 2",
   "language": "python",
   "name": "python2"
  },
  "language_info": {
   "codemirror_mode": {
    "name": "ipython",
    "version": 2
   },
   "file_extension": ".py",
   "mimetype": "text/x-python",
   "name": "python",
   "nbconvert_exporter": "python",
   "pygments_lexer": "ipython2",
   "version": "2.7.14"
  }
 },
 "nbformat": 4,
 "nbformat_minor": 2
}
